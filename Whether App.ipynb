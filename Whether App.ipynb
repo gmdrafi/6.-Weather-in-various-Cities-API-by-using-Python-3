{
 "cells": [
  {
   "cell_type": "code",
   "execution_count": null,
   "metadata": {},
   "outputs": [
    {
     "name": "stdout",
     "output_type": "stream",
     "text": [
      "Enter the city name: rayachoti\n",
      "-------------------------------------------------------------\n",
      "Weather Stats for - RAYACHOTI  || 12 Mar 2022 | 02:07:10 PM\n",
      "-------------------------------------------------------------\n",
      "Current temperature is: 34.66 deg C\n",
      "Current weather desc  : clear sky\n",
      "Current Humidity      : 18 %\n",
      "Current wind speed    : 5.58 kmph\n",
      "====================================================\n",
      "\n",
      "Enter the city name: sydney\n",
      "-------------------------------------------------------------\n",
      "Weather Stats for - SYDNEY  || 12 Mar 2022 | 02:07:18 PM\n",
      "-------------------------------------------------------------\n",
      "Current temperature is: 20.82 deg C\n",
      "Current weather desc  : few clouds\n",
      "Current Humidity      : 67 %\n",
      "Current wind speed    : 6.69 kmph\n",
      "====================================================\n",
      "\n"
     ]
    }
   ],
   "source": [
    "import requests\n",
    "#import os\n",
    "from datetime import datetime\n",
    "while(True):\n",
    "    api_key = 'b55672612f6736bdaad1f549180fee95'\n",
    "    location = input(\"Enter the city name: \")\n",
    "\n",
    "    complete_api_link = \"https://api.openweathermap.org/data/2.5/weather?q=\"+location+\"&appid=\"+api_key\n",
    "    api_link = requests.get(complete_api_link)\n",
    "    api_data = api_link.json()\n",
    "\n",
    "#create variables to store and display data\n",
    "    temp_city = ((api_data['main']['temp']) - 273.15)\n",
    "    weather_desc = api_data['weather'][0]['description']\n",
    "    hmdt = api_data['main']['humidity']\n",
    "    wind_spd = api_data['wind']['speed']\n",
    "    date_time = datetime.now().strftime(\"%d %b %Y | %I:%M:%S %p\")\n",
    "\n",
    "    print (\"-------------------------------------------------------------\")\n",
    "    print (\"Weather Stats for - {}  || {}\".format(location.upper(), date_time))\n",
    "    print (\"-------------------------------------------------------------\")\n",
    "\n",
    "    print (\"Current temperature is: {:.2f} deg C\".format(temp_city))\n",
    "    print (\"Current weather desc  :\",weather_desc)\n",
    "    print (\"Current Humidity      :\",hmdt, '%')\n",
    "    print (\"Current wind speed    :\",wind_spd ,'kmph')\n",
    "\n",
    "    print(\"====================================================\")\n",
    "\n",
    "\n",
    "    # making a list so that i can print the info to a txt \n",
    "    txtlist = [temp_city,weather_desc,hmdt,wind_spd,date_time]\n",
    "    #using open() buit-in function to write to a text file\n",
    "    with open(\"textfile.txt\" , mode= 'w' ,encoding= 'utf-8') as f :     \n",
    "                                     #encoding = utf-8 for linux and cp1252 for win\n",
    "        f.write(\"------------------------------------------------------------- \\n \")   \n",
    "        f.write(\"Weather Stats for - {}  || {}\".format(location.upper(), date_time))\n",
    "        f.write(\"\\n ------------------------------------------------------------- \\n\")\n",
    "        f.write(\"Current temperature is: {:.2f} deg C\\n\".format(txtlist[0]))\n",
    "\n",
    "        f.write(\"{},{} \\n\".format(\"Current weather desc  :\" ,txtlist[1]))\n",
    "        f.write(\"{},{},{} \\n\".format(\"Current Humidity      :\",txtlist[2],\"%\"))\n",
    "        f.write(\"{},{},{} \\n\".format(\"Current wind speed    :\",txtlist[3],\"kmph\"))\n",
    "        f.write(\"====================================================\")\n",
    "    print()    \n",
    "\n",
    "    \n"
   ]
  },
  {
   "cell_type": "code",
   "execution_count": null,
   "metadata": {},
   "outputs": [],
   "source": []
  }
 ],
 "metadata": {
  "kernelspec": {
   "display_name": "Python 3",
   "language": "python",
   "name": "python3"
  },
  "language_info": {
   "codemirror_mode": {
    "name": "ipython",
    "version": 3
   },
   "file_extension": ".py",
   "mimetype": "text/x-python",
   "name": "python",
   "nbconvert_exporter": "python",
   "pygments_lexer": "ipython3",
   "version": "3.8.5"
  },
  "widgets": {
   "application/vnd.jupyter.widget-state+json": {
    "state": {},
    "version_major": 2,
    "version_minor": 0
   }
  }
 },
 "nbformat": 4,
 "nbformat_minor": 4
}
